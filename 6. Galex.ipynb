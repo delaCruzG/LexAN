{
 "cells": [
  {
   "cell_type": "code",
   "execution_count": 1,
   "id": "907819c2-392c-4084-a8bc-412e7120bda5",
   "metadata": {},
   "outputs": [],
   "source": [
    "import pandas as pd\n",
    "import os\n",
    "import networkx as nx"
   ]
  },
  {
   "cell_type": "code",
   "execution_count": 2,
   "id": "7fb76821-4e5a-4ddc-acef-b864141d4e87",
   "metadata": {},
   "outputs": [],
   "source": [
    "def remover_nodos_vacios(grafo):\n",
    "    vacias = open(\"removed_words.txt\",encoding=\"utf-8\")\n",
    "    palabras = vacias.readlines()\n",
    "    for palabra in palabras:\n",
    "        if palabra in grafo.nodes():\n",
    "            grafo.remove_node(palabra)\n",
    "    return grafo"
   ]
  },
  {
   "cell_type": "code",
   "execution_count": 3,
   "id": "58f7c65b-66ac-47c2-a752-0afffb8687b2",
   "metadata": {},
   "outputs": [
    {
     "name": "stdout",
     "output_type": "stream",
     "text": [
      "Removiendo nodos...\n",
      "Graph with 16315 nodes and 257023 edges\n",
      "Graph with 16315 nodes and 257023 edges\n"
     ]
    }
   ],
   "source": [
    "grafo_a = nx.Graph()\n",
    "grafo_f = nx.Graph()\n",
    "directorio = 'normas/'\n",
    "for archivo in os.listdir(directorio):\n",
    "    datos = pd.read_csv(directorio+archivo)\n",
    "    estimulo = archivo[:archivo.find(\".csv\")]\n",
    "    for respuesta, frecuencia,asociacion in zip(datos[\"Respuesta\"],datos[\"Frecuencia\"],datos[\"Asociación\"]):\n",
    "        grafo_f.add_edge(estimulo,respuesta,weight=float(1/int(frecuencia)))\n",
    "        grafo_a.add_edge(estimulo,respuesta,weight=float(1-int(asociacion)))\n",
    "print(\"Removiendo nodos...\")\n",
    "remover_nodos_vacios(grafo_f)\n",
    "remover_nodos_vacios(grafo_a)\n",
    "print(grafo_a)\n",
    "print(grafo_f)"
   ]
  },
  {
   "cell_type": "code",
   "execution_count": null,
   "id": "1829678d-fd38-4007-9860-d979e94de9e3",
   "metadata": {},
   "outputs": [],
   "source": []
  }
 ],
 "metadata": {
  "kernelspec": {
   "display_name": "Python 3 (ipykernel)",
   "language": "python",
   "name": "python3"
  },
  "language_info": {
   "codemirror_mode": {
    "name": "ipython",
    "version": 3
   },
   "file_extension": ".py",
   "mimetype": "text/x-python",
   "name": "python",
   "nbconvert_exporter": "python",
   "pygments_lexer": "ipython3",
   "version": "3.8.10"
  }
 },
 "nbformat": 4,
 "nbformat_minor": 5
}
