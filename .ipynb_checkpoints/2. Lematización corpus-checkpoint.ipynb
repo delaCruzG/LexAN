{
 "cells": [
  {
   "cell_type": "code",
   "execution_count": 1,
   "id": "2039dda2-beb2-41d9-aeb7-101f1667cfc9",
   "metadata": {},
   "outputs": [],
   "source": [
    "import re\n",
    "def limpiar_espacios(cadena):\n",
    "    # Eliminar espacios después de paréntesis de apertura y antes de paréntesis de cierre\n",
    "    cadena = re.sub(r'\\(\\s+', '(', cadena)  # Quita espacios después de '('\n",
    "    cadena = re.sub(r'\\s+\\)', ')', cadena)  # Quita espacios antes de ')'\n",
    "    # Eliminar espacios al inicio y al final de la cadena\n",
    "    cadena = cadena.strip()\n",
    "    return cadena"
   ]
  },
  {
   "cell_type": "code",
   "execution_count": null,
   "id": "5c73f734-1f92-420f-afd0-44810b1c0b7f",
   "metadata": {},
   "outputs": [],
   "source": [
    "for archivo in os.listdir(\"terminos\"):\n",
    "    files = {'file': open(\"terminos/\"+archivo, 'rb')}\n",
    "    #Parámetros\n",
    "    params = {'outf': 'tagged', 'format': 'json'}\n",
    "    #Enviar petición\n",
    "    url = \"http://www.corpus.unam.mx/servicio-freeling/analyze.php\"\n",
    "    r = requests.post(url, files=files, params=params)\n",
    "    #Convertir de formato json\n",
    "    obj = r.json()\n",
    "    #Ejemplo, obtener todos los lemas\n",
    "    #print(obj)\n",
    "    cadena = \"\"\n",
    "    for sentence in obj:\n",
    "      for word in sentence:\n",
    "        cadena = cadena + \" \"+ word[\"lemma\"]\n",
    "    archivo_salida = open(\"terminos_lematizados/\"+archivo,\"w\",encoding=\"utf-8\")\n",
    "    archivo_salida.write(cadena)\n",
    "    archivo_salida.close()"
   ]
  }
 ],
 "metadata": {
  "kernelspec": {
   "display_name": "Python 3 (ipykernel)",
   "language": "python",
   "name": "python3"
  },
  "language_info": {
   "codemirror_mode": {
    "name": "ipython",
    "version": 3
   },
   "file_extension": ".py",
   "mimetype": "text/x-python",
   "name": "python",
   "nbconvert_exporter": "python",
   "pygments_lexer": "ipython3",
   "version": "3.8.10"
  }
 },
 "nbformat": 4,
 "nbformat_minor": 5
}
