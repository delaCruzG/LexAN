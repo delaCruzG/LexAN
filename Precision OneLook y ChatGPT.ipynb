{
 "cells": [
  {
   "cell_type": "code",
   "execution_count": 17,
   "id": "8590f4e5-34de-4893-a6f8-9577cfcc17a6",
   "metadata": {},
   "outputs": [],
   "source": [
    "def precision(k,arreglo,concepto):\n",
    "    tope = k\n",
    "    encontrado = 0\n",
    "    if k>len(arreglo):\n",
    "        tope = len(arreglo)\n",
    "    for i in range(0,tope):\n",
    "        if arreglo[i] == concepto.strip():\n",
    "            encontrado = 1\n",
    "    return encontrado"
   ]
  },
  {
   "cell_type": "code",
   "execution_count": 21,
   "id": "6a857071-630c-413b-bb92-e25751abfaa4",
   "metadata": {},
   "outputs": [
    {
     "name": "stdout",
     "output_type": "stream",
     "text": [
      "Total de deficiones: 4767\n",
      "Chat GPT\n",
      "p@1: 0.004195510803440319 p@3 0.0054541640444724145 p@5 0.0062932662051604785 p@10 0.0071323683658485425\n"
     ]
    }
   ],
   "source": [
    "import pandas as pd\n",
    "\n",
    "data = pd.read_excel(\"corpus/Terminos_definiciones_ChatGPT.xlsx\",sheet_name=\"Chat GPT\")\n",
    "\n",
    "p_1 = p_3 = p_5 = p_10 = total = 0\n",
    "# Iterar sobre cada columna y procesar los primeros 12 renglones\n",
    "for column in data.columns:\n",
    "    total += 1\n",
    "    first_13_rows = data[column].head(13)\n",
    "    lista = list(first_13_rows)\n",
    "    #print(f'Columna: {column}')\n",
    "    #print(first_13_rows)\n",
    "    termino = lista[0]\n",
    "    candidatos = lista[2:13]\n",
    "    candidatos_limpios = []\n",
    "    for candidato in candidatos:\n",
    "        try:\n",
    "            cadena =  candidato[candidato.index(\". \")+2:len(candidato)]\n",
    "            candidatos_limpios.append(cadena)\n",
    "        except:\n",
    "            candidatos_limpios.append(cadena)\n",
    "    p_1 += precision(1,candidatos_limpios,termino)\n",
    "    p_3 += precision(3,candidatos_limpios,termino)\n",
    "    p_5 += precision(5,candidatos_limpios,termino)\n",
    "    p_10 += precision(10,candidatos_limpios,termino)\n",
    "print(\"Total de deficiones:\",total)\n",
    "print(\"Chat GPT\")\n",
    "print(\"p@1:\",p_1/total,\"p@3\",p_3/total,\"p@5\",p_5/total,\"p@10\",p_10/total)\n"
   ]
  },
  {
   "cell_type": "code",
   "execution_count": 22,
   "id": "56eeb9a6-b35f-4b13-a2e0-933b7ff56a3e",
   "metadata": {},
   "outputs": [
    {
     "name": "stdout",
     "output_type": "stream",
     "text": [
      "Total de deficiones: 4767\n",
      "One Look\n",
      "p@1: 0.09523809523809523 p@3 0.13614432557163836 p@5 0.14705265366058318 p@10 0.15733165512901195\n"
     ]
    }
   ],
   "source": [
    "import pandas as pd\n",
    "\n",
    "data = pd.read_excel(\"corpus/Terminos_definiciones_OneLook.xlsx\",sheet_name=\"One Look\")\n",
    "\n",
    "p_1 = p_3 = p_5 = p_10 = total = 0\n",
    "# Iterar sobre cada columna y procesar los primeros 12 renglones\n",
    "for column in data.columns:\n",
    "    total += 1\n",
    "    first_13_rows = data[column].head(13)\n",
    "    lista = list(first_13_rows)\n",
    "    #print(f'Columna: {column}')\n",
    "    #print(first_13_rows)\n",
    "    termino = lista[0]\n",
    "    candidatos = lista[2:13]\n",
    "    candidatos_limpios = []\n",
    "    for candidato in candidatos:\n",
    "        try:\n",
    "            cadena =  candidato[candidato.index(\". \")+2:len(candidato)]\n",
    "            candidatos_limpios.append(cadena)\n",
    "        except:\n",
    "            candidatos_limpios.append(cadena)\n",
    "    p_1 += precision(1,candidatos_limpios,termino)\n",
    "    p_3 += precision(3,candidatos_limpios,termino)\n",
    "    p_5 += precision(5,candidatos_limpios,termino)\n",
    "    p_10 += precision(10,candidatos_limpios,termino)\n",
    "print(\"Total de deficiones:\",total)\n",
    "print(\"One Look\")\n",
    "print(\"p@1:\",p_1/total,\"p@3\",p_3/total,\"p@5\",p_5/total,\"p@10\",p_10/total)"
   ]
  },
  {
   "cell_type": "code",
   "execution_count": null,
   "id": "f82d0fe8-db07-4d07-b7ac-076ebcf6b08d",
   "metadata": {},
   "outputs": [],
   "source": []
  }
 ],
 "metadata": {
  "kernelspec": {
   "display_name": "Python 3 (ipykernel)",
   "language": "python",
   "name": "python3"
  },
  "language_info": {
   "codemirror_mode": {
    "name": "ipython",
    "version": 3
   },
   "file_extension": ".py",
   "mimetype": "text/x-python",
   "name": "python",
   "nbconvert_exporter": "python",
   "pygments_lexer": "ipython3",
   "version": "3.8.10"
  }
 },
 "nbformat": 4,
 "nbformat_minor": 5
}
