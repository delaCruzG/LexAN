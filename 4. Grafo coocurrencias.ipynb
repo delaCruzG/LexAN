{
 "cells": [
  {
   "cell_type": "code",
   "execution_count": 1,
   "id": "ba141c9b-8f43-47f2-9613-ac684415bffe",
   "metadata": {},
   "outputs": [
    {
     "name": "stdout",
     "output_type": "stream",
     "text": [
      "Collecting text2graphapi\n",
      "  Downloading text2graphapi-0.2.0-py3-none-any.whl (33 kB)\n",
      "Collecting emoji\n",
      "  Downloading emoji-2.12.1-py3-none-any.whl (431 kB)\n",
      "\u001b[K     |████████████████████████████████| 431 kB 2.3 MB/s eta 0:00:01\n",
      "\u001b[?25hCollecting sphinx\n",
      "  Downloading sphinx-7.1.2-py3-none-any.whl (3.2 MB)\n",
      "\u001b[K     |████████████████████████████████| 3.2 MB 8.6 MB/s eta 0:00:01\n",
      "\u001b[?25hRequirement already satisfied: spacy in /home/jorgecarlosreyes/.local/lib/python3.8/site-packages (from text2graphapi) (3.7.5)\n",
      "Requirement already satisfied: joblib in /home/jorgecarlosreyes/.local/lib/python3.8/site-packages (from text2graphapi) (1.4.2)\n",
      "Requirement already satisfied: nltk in /home/jorgecarlosreyes/.local/lib/python3.8/site-packages (from text2graphapi) (3.8.1)\n",
      "Collecting flashtext\n",
      "  Downloading flashtext-2.7.tar.gz (14 kB)\n",
      "Requirement already satisfied: networkx in /home/jorgecarlosreyes/.local/lib/python3.8/site-packages (from text2graphapi) (3.1)\n",
      "Requirement already satisfied: pandas in /home/jorgecarlosreyes/.local/lib/python3.8/site-packages (from text2graphapi) (2.0.3)\n",
      "Collecting matplotlib\n",
      "  Downloading matplotlib-3.7.5-cp38-cp38-manylinux_2_12_x86_64.manylinux2010_x86_64.whl (9.2 MB)\n",
      "\u001b[K     |████████████████████████████████| 9.2 MB 9.3 MB/s eta 0:00:01\n",
      "\u001b[?25hCollecting contractions\n",
      "  Downloading contractions-0.1.73-py2.py3-none-any.whl (8.7 kB)\n",
      "Requirement already satisfied: setuptools in /usr/lib/python3/dist-packages (from text2graphapi) (45.2.0)\n",
      "Requirement already satisfied: numpy in /home/jorgecarlosreyes/.local/lib/python3.8/site-packages (from text2graphapi) (1.24.4)\n",
      "Collecting emot\n",
      "  Downloading emot-3.1-py3-none-any.whl (61 kB)\n",
      "\u001b[K     |████████████████████████████████| 61 kB 29 kB/s s eta 0:00:01\n",
      "\u001b[?25hCollecting scipy\n",
      "  Downloading scipy-1.10.1-cp38-cp38-manylinux_2_17_x86_64.manylinux2014_x86_64.whl (34.5 MB)\n",
      "\u001b[K     |████████████████████████████████| 34.5 MB 55 kB/s  eta 0:00:01\n",
      "\u001b[?25hRequirement already satisfied: typing-extensions>=4.7.0 in /home/jorgecarlosreyes/.local/lib/python3.8/site-packages (from emoji->text2graphapi) (4.12.1)\n",
      "Collecting sphinxcontrib-htmlhelp>=2.0.0\n",
      "  Downloading sphinxcontrib_htmlhelp-2.0.1-py3-none-any.whl (99 kB)\n",
      "\u001b[K     |████████████████████████████████| 99 kB 7.6 MB/s eta 0:00:011\n",
      "\u001b[?25hRequirement already satisfied: packaging>=21.0 in /home/jorgecarlosreyes/.local/lib/python3.8/site-packages (from sphinx->text2graphapi) (24.0)\n",
      "Collecting sphinxcontrib-devhelp\n",
      "  Downloading sphinxcontrib_devhelp-1.0.2-py2.py3-none-any.whl (84 kB)\n",
      "\u001b[K     |████████████████████████████████| 84 kB 2.6 MB/s eta 0:00:01\n",
      "\u001b[?25hRequirement already satisfied: requests>=2.25.0 in /home/jorgecarlosreyes/.local/lib/python3.8/site-packages (from sphinx->text2graphapi) (2.32.3)\n",
      "Collecting sphinxcontrib-applehelp\n",
      "  Downloading sphinxcontrib_applehelp-1.0.4-py3-none-any.whl (120 kB)\n",
      "\u001b[K     |████████████████████████████████| 120 kB 8.2 MB/s eta 0:00:01\n",
      "\u001b[?25hCollecting imagesize>=1.3\n",
      "  Downloading imagesize-1.4.1-py2.py3-none-any.whl (8.8 kB)\n",
      "Collecting docutils<0.21,>=0.18.1\n",
      "  Downloading docutils-0.20.1-py3-none-any.whl (572 kB)\n",
      "\u001b[K     |████████████████████████████████| 572 kB 9.1 MB/s eta 0:00:01\n",
      "\u001b[?25hCollecting sphinxcontrib-serializinghtml>=1.1.5\n",
      "  Downloading sphinxcontrib_serializinghtml-1.1.5-py2.py3-none-any.whl (94 kB)\n",
      "\u001b[K     |████████████████████████████████| 94 kB 4.4 MB/s eta 0:00:011\n",
      "\u001b[?25hRequirement already satisfied: importlib-metadata>=4.8; python_version < \"3.10\" in /home/jorgecarlosreyes/.local/lib/python3.8/site-packages (from sphinx->text2graphapi) (7.1.0)\n",
      "Collecting snowballstemmer>=2.0\n",
      "  Downloading snowballstemmer-2.2.0-py2.py3-none-any.whl (93 kB)\n",
      "\u001b[K     |████████████████████████████████| 93 kB 2.0 MB/s eta 0:00:011\n",
      "\u001b[?25hRequirement already satisfied: Pygments>=2.13 in /home/jorgecarlosreyes/.local/lib/python3.8/site-packages (from sphinx->text2graphapi) (2.18.0)\n",
      "Requirement already satisfied: babel>=2.9 in /home/jorgecarlosreyes/.local/lib/python3.8/site-packages (from sphinx->text2graphapi) (2.15.0)\n",
      "Requirement already satisfied: Jinja2>=3.0 in /home/jorgecarlosreyes/.local/lib/python3.8/site-packages (from sphinx->text2graphapi) (3.1.4)\n",
      "Collecting sphinxcontrib-jsmath\n",
      "  Downloading sphinxcontrib_jsmath-1.0.1-py2.py3-none-any.whl (5.1 kB)\n",
      "Collecting sphinxcontrib-qthelp\n",
      "  Downloading sphinxcontrib_qthelp-1.0.3-py2.py3-none-any.whl (90 kB)\n",
      "\u001b[K     |████████████████████████████████| 90 kB 7.5 MB/s eta 0:00:01\n",
      "\u001b[?25hCollecting alabaster<0.8,>=0.7\n",
      "  Downloading alabaster-0.7.13-py3-none-any.whl (13 kB)\n",
      "Requirement already satisfied: srsly<3.0.0,>=2.4.3 in /home/jorgecarlosreyes/.local/lib/python3.8/site-packages (from spacy->text2graphapi) (2.4.8)\n",
      "Requirement already satisfied: preshed<3.1.0,>=3.0.2 in /home/jorgecarlosreyes/.local/lib/python3.8/site-packages (from spacy->text2graphapi) (3.0.9)\n",
      "Requirement already satisfied: langcodes<4.0.0,>=3.2.0 in /home/jorgecarlosreyes/.local/lib/python3.8/site-packages (from spacy->text2graphapi) (3.4.0)\n",
      "Requirement already satisfied: typer<1.0.0,>=0.3.0 in /home/jorgecarlosreyes/.local/lib/python3.8/site-packages (from spacy->text2graphapi) (0.12.3)\n",
      "Requirement already satisfied: cymem<2.1.0,>=2.0.2 in /home/jorgecarlosreyes/.local/lib/python3.8/site-packages (from spacy->text2graphapi) (2.0.8)\n",
      "Requirement already satisfied: spacy-legacy<3.1.0,>=3.0.11 in /home/jorgecarlosreyes/.local/lib/python3.8/site-packages (from spacy->text2graphapi) (3.0.12)\n",
      "Requirement already satisfied: weasel<0.5.0,>=0.1.0 in /home/jorgecarlosreyes/.local/lib/python3.8/site-packages (from spacy->text2graphapi) (0.4.1)\n",
      "Requirement already satisfied: tqdm<5.0.0,>=4.38.0 in /home/jorgecarlosreyes/.local/lib/python3.8/site-packages (from spacy->text2graphapi) (4.66.4)\n",
      "Requirement already satisfied: thinc<8.3.0,>=8.2.2 in /home/jorgecarlosreyes/.local/lib/python3.8/site-packages (from spacy->text2graphapi) (8.2.4)\n",
      "Requirement already satisfied: catalogue<2.1.0,>=2.0.6 in /home/jorgecarlosreyes/.local/lib/python3.8/site-packages (from spacy->text2graphapi) (2.0.10)\n",
      "Requirement already satisfied: murmurhash<1.1.0,>=0.28.0 in /home/jorgecarlosreyes/.local/lib/python3.8/site-packages (from spacy->text2graphapi) (1.0.10)\n",
      "Requirement already satisfied: wasabi<1.2.0,>=0.9.1 in /home/jorgecarlosreyes/.local/lib/python3.8/site-packages (from spacy->text2graphapi) (1.1.3)\n",
      "Requirement already satisfied: pydantic!=1.8,!=1.8.1,<3.0.0,>=1.7.4 in /home/jorgecarlosreyes/.local/lib/python3.8/site-packages (from spacy->text2graphapi) (2.7.4)\n",
      "Requirement already satisfied: spacy-loggers<2.0.0,>=1.0.0 in /home/jorgecarlosreyes/.local/lib/python3.8/site-packages (from spacy->text2graphapi) (1.0.5)\n",
      "Requirement already satisfied: click in /home/jorgecarlosreyes/.local/lib/python3.8/site-packages (from nltk->text2graphapi) (8.1.7)\n",
      "Requirement already satisfied: regex>=2021.8.3 in /home/jorgecarlosreyes/.local/lib/python3.8/site-packages (from nltk->text2graphapi) (2024.5.15)\n",
      "Requirement already satisfied: pytz>=2020.1 in /home/jorgecarlosreyes/.local/lib/python3.8/site-packages (from pandas->text2graphapi) (2024.1)\n",
      "Requirement already satisfied: tzdata>=2022.1 in /home/jorgecarlosreyes/.local/lib/python3.8/site-packages (from pandas->text2graphapi) (2024.1)\n",
      "Requirement already satisfied: python-dateutil>=2.8.2 in /home/jorgecarlosreyes/.local/lib/python3.8/site-packages (from pandas->text2graphapi) (2.9.0.post0)\n",
      "Collecting contourpy>=1.0.1\n",
      "  Downloading contourpy-1.1.1-cp38-cp38-manylinux_2_17_x86_64.manylinux2014_x86_64.whl (301 kB)\n",
      "\u001b[K     |████████████████████████████████| 301 kB 8.9 MB/s eta 0:00:01\n",
      "\u001b[?25hCollecting pyparsing>=2.3.1\n",
      "  Downloading pyparsing-3.1.2-py3-none-any.whl (103 kB)\n",
      "\u001b[K     |████████████████████████████████| 103 kB 9.6 MB/s eta 0:00:01\n",
      "\u001b[?25hCollecting cycler>=0.10\n",
      "  Downloading cycler-0.12.1-py3-none-any.whl (8.3 kB)\n",
      "Requirement already satisfied: pillow>=6.2.0 in /usr/lib/python3/dist-packages (from matplotlib->text2graphapi) (7.0.0)\n",
      "Collecting kiwisolver>=1.0.1\n",
      "  Downloading kiwisolver-1.4.5-cp38-cp38-manylinux_2_5_x86_64.manylinux1_x86_64.whl (1.2 MB)\n",
      "\u001b[K     |████████████████████████████████| 1.2 MB 9.2 MB/s eta 0:00:01\n",
      "\u001b[?25hCollecting fonttools>=4.22.0\n",
      "  Downloading fonttools-4.53.0-cp38-cp38-manylinux_2_17_x86_64.manylinux2014_x86_64.whl (4.7 MB)\n",
      "\u001b[K     |████████████████████████████████| 4.7 MB 8.7 MB/s eta 0:00:01\n",
      "\u001b[?25hRequirement already satisfied: importlib-resources>=3.2.0; python_version < \"3.10\" in /home/jorgecarlosreyes/.local/lib/python3.8/site-packages (from matplotlib->text2graphapi) (6.4.0)\n",
      "Collecting textsearch>=0.0.21\n",
      "  Downloading textsearch-0.0.24-py2.py3-none-any.whl (7.6 kB)\n",
      "Requirement already satisfied: urllib3<3,>=1.21.1 in /home/jorgecarlosreyes/.local/lib/python3.8/site-packages (from requests>=2.25.0->sphinx->text2graphapi) (2.2.1)\n",
      "Requirement already satisfied: idna<4,>=2.5 in /home/jorgecarlosreyes/.local/lib/python3.8/site-packages (from requests>=2.25.0->sphinx->text2graphapi) (3.7)\n",
      "Requirement already satisfied: certifi>=2017.4.17 in /home/jorgecarlosreyes/.local/lib/python3.8/site-packages (from requests>=2.25.0->sphinx->text2graphapi) (2024.6.2)\n",
      "Requirement already satisfied: charset-normalizer<4,>=2 in /home/jorgecarlosreyes/.local/lib/python3.8/site-packages (from requests>=2.25.0->sphinx->text2graphapi) (3.3.2)\n",
      "Requirement already satisfied: zipp>=0.5 in /home/jorgecarlosreyes/.local/lib/python3.8/site-packages (from importlib-metadata>=4.8; python_version < \"3.10\"->sphinx->text2graphapi) (3.19.2)\n",
      "Requirement already satisfied: MarkupSafe>=2.0 in /home/jorgecarlosreyes/.local/lib/python3.8/site-packages (from Jinja2>=3.0->sphinx->text2graphapi) (2.1.5)\n",
      "Requirement already satisfied: language-data>=1.2 in /home/jorgecarlosreyes/.local/lib/python3.8/site-packages (from langcodes<4.0.0,>=3.2.0->spacy->text2graphapi) (1.2.0)\n",
      "Requirement already satisfied: rich>=10.11.0 in /home/jorgecarlosreyes/.local/lib/python3.8/site-packages (from typer<1.0.0,>=0.3.0->spacy->text2graphapi) (13.7.1)\n",
      "Requirement already satisfied: shellingham>=1.3.0 in /home/jorgecarlosreyes/.local/lib/python3.8/site-packages (from typer<1.0.0,>=0.3.0->spacy->text2graphapi) (1.5.4)\n",
      "Requirement already satisfied: cloudpathlib<1.0.0,>=0.7.0 in /home/jorgecarlosreyes/.local/lib/python3.8/site-packages (from weasel<0.5.0,>=0.1.0->spacy->text2graphapi) (0.18.1)\n",
      "Requirement already satisfied: confection<0.2.0,>=0.0.4 in /home/jorgecarlosreyes/.local/lib/python3.8/site-packages (from weasel<0.5.0,>=0.1.0->spacy->text2graphapi) (0.1.5)\n",
      "Requirement already satisfied: smart-open<8.0.0,>=5.2.1 in /home/jorgecarlosreyes/.local/lib/python3.8/site-packages (from weasel<0.5.0,>=0.1.0->spacy->text2graphapi) (7.0.4)\n",
      "Requirement already satisfied: blis<0.8.0,>=0.7.8 in /home/jorgecarlosreyes/.local/lib/python3.8/site-packages (from thinc<8.3.0,>=8.2.2->spacy->text2graphapi) (0.7.11)\n",
      "Requirement already satisfied: pydantic-core==2.18.4 in /home/jorgecarlosreyes/.local/lib/python3.8/site-packages (from pydantic!=1.8,!=1.8.1,<3.0.0,>=1.7.4->spacy->text2graphapi) (2.18.4)\n",
      "Requirement already satisfied: annotated-types>=0.4.0 in /home/jorgecarlosreyes/.local/lib/python3.8/site-packages (from pydantic!=1.8,!=1.8.1,<3.0.0,>=1.7.4->spacy->text2graphapi) (0.7.0)\n",
      "Requirement already satisfied: six>=1.5 in /home/jorgecarlosreyes/.local/lib/python3.8/site-packages (from python-dateutil>=2.8.2->pandas->text2graphapi) (1.16.0)\n",
      "Collecting anyascii\n",
      "  Downloading anyascii-0.3.2-py3-none-any.whl (289 kB)\n",
      "\u001b[K     |████████████████████████████████| 289 kB 7.2 MB/s eta 0:00:01\n",
      "\u001b[?25hCollecting pyahocorasick\n",
      "  Downloading pyahocorasick-2.1.0-cp38-cp38-manylinux_2_5_x86_64.manylinux1_x86_64.whl (104 kB)\n",
      "\u001b[K     |████████████████████████████████| 104 kB 2.9 MB/s eta 0:00:01\n",
      "\u001b[?25hRequirement already satisfied: marisa-trie>=0.7.7 in /home/jorgecarlosreyes/.local/lib/python3.8/site-packages (from language-data>=1.2->langcodes<4.0.0,>=3.2.0->spacy->text2graphapi) (1.2.0)\n",
      "Requirement already satisfied: markdown-it-py>=2.2.0 in /home/jorgecarlosreyes/.local/lib/python3.8/site-packages (from rich>=10.11.0->typer<1.0.0,>=0.3.0->spacy->text2graphapi) (3.0.0)\n",
      "Requirement already satisfied: wrapt in /home/jorgecarlosreyes/.local/lib/python3.8/site-packages (from smart-open<8.0.0,>=5.2.1->weasel<0.5.0,>=0.1.0->spacy->text2graphapi) (1.16.0)\n",
      "Requirement already satisfied: mdurl~=0.1 in /home/jorgecarlosreyes/.local/lib/python3.8/site-packages (from markdown-it-py>=2.2.0->rich>=10.11.0->typer<1.0.0,>=0.3.0->spacy->text2graphapi) (0.1.2)\n",
      "Building wheels for collected packages: flashtext\n",
      "  Building wheel for flashtext (setup.py) ... \u001b[?25ldone\n",
      "\u001b[?25h  Created wheel for flashtext: filename=flashtext-2.7-py2.py3-none-any.whl size=9299 sha256=b0de7ea34cc21d0c17b80f00ecd8cdaae3ba4735825001e467303dd5a9bd3dd3\n",
      "  Stored in directory: /home/jorgecarlosreyes/.cache/pip/wheels/8d/62/8b/71813348245ae1bcbae179193bbc72db819e8057e89298a6ac\n",
      "Successfully built flashtext\n",
      "Installing collected packages: emoji, sphinxcontrib-htmlhelp, sphinxcontrib-devhelp, sphinxcontrib-applehelp, imagesize, docutils, sphinxcontrib-serializinghtml, snowballstemmer, sphinxcontrib-jsmath, sphinxcontrib-qthelp, alabaster, sphinx, flashtext, contourpy, pyparsing, cycler, kiwisolver, fonttools, matplotlib, anyascii, pyahocorasick, textsearch, contractions, emot, scipy, text2graphapi\n",
      "Successfully installed alabaster-0.7.13 anyascii-0.3.2 contourpy-1.1.1 contractions-0.1.73 cycler-0.12.1 docutils-0.20.1 emoji-2.12.1 emot-3.1 flashtext-2.7 fonttools-4.53.0 imagesize-1.4.1 kiwisolver-1.4.5 matplotlib-3.7.5 pyahocorasick-2.1.0 pyparsing-3.1.2 scipy-1.10.1 snowballstemmer-2.2.0 sphinx-7.1.2 sphinxcontrib-applehelp-1.0.4 sphinxcontrib-devhelp-1.0.2 sphinxcontrib-htmlhelp-2.0.1 sphinxcontrib-jsmath-1.0.1 sphinxcontrib-qthelp-1.0.3 sphinxcontrib-serializinghtml-1.1.5 text2graphapi-0.2.0 textsearch-0.0.24\n"
     ]
    }
   ],
   "source": [
    "!pip install text2graphapi"
   ]
  },
  {
   "cell_type": "code",
   "execution_count": 6,
   "id": "87f42c22-2bfd-4ec5-9a80-e74b6bae98fb",
   "metadata": {},
   "outputs": [],
   "source": [
    "archivo = open('csmx.txt',encoding=\"utf-8\")\n",
    "contenido = archivo.read()"
   ]
  },
  {
   "cell_type": "code",
   "execution_count": 13,
   "id": "e6e9a5bf-43bb-42da-9618-9ac813a03b91",
   "metadata": {},
   "outputs": [
    {
     "name": "stderr",
     "output_type": "stream",
     "text": [
      "[nltk_data] Downloading package punkt to\n",
      "[nltk_data]     /home/jorgecarlosreyes/nltk_data...\n",
      "[nltk_data]   Package punkt is already up-to-date!\n",
      "[nltk_data] Downloading package stopwords to\n",
      "[nltk_data]     /home/jorgecarlosreyes/nltk_data...\n",
      "[nltk_data]   Package stopwords is already up-to-date!\n"
     ]
    }
   ],
   "source": [
    "import nltk\n",
    "import re\n",
    "from nltk.tokenize import word_tokenize\n",
    "from nltk.corpus import stopwords\n",
    "nltk.download('punkt')\n",
    "nltk.download('stopwords')\n",
    "vacias = stopwords.words('spanish')"
   ]
  },
  {
   "cell_type": "code",
   "execution_count": 8,
   "id": "cced5e87-3184-46d8-a885-67f553a15698",
   "metadata": {},
   "outputs": [],
   "source": [
    "import spacy"
   ]
  },
  {
   "cell_type": "code",
   "execution_count": 9,
   "id": "40c617e8-ae78-4b87-9198-44cfa4011a82",
   "metadata": {},
   "outputs": [],
   "source": [
    "def dividir_cadena(cadena):\n",
    "    # Calcular la longitud de cada parte\n",
    "    longitud_total = len(cadena)\n",
    "    longitud_parte = longitud_total // 3\n",
    "    \n",
    "    # Calcular los índices de corte\n",
    "    indice1 = longitud_parte\n",
    "    indice2 = 2 * longitud_parte\n",
    "    \n",
    "    # Dividir la cadena usando slicing\n",
    "    parte1 = cadena[:indice1]\n",
    "    parte2 = cadena[indice1:indice2]\n",
    "    parte3 = cadena[indice2:]\n",
    "    \n",
    "    return parte1, parte2, parte3"
   ]
  },
  {
   "cell_type": "code",
   "execution_count": 11,
   "id": "25b83523-a531-44b1-af29-a513c4d7ff97",
   "metadata": {},
   "outputs": [],
   "source": [
    "nlp = spacy.load('es_core_news_sm') \n",
    "contenido = contenido.strip()\n",
    "patron = r'[^\\w\\s]'\n",
    "parte1, parte2, parte3 = dividir_cadena(contenido)\n",
    "partes = []\n",
    "partes.append(parte1)\n",
    "partes.append(parte2)\n",
    "partes.append(parte3)\n",
    "todo_sinstop = \"\"\n",
    "nlp.max_length = len(contenido)\n",
    "for i in range(0,3):\n",
    "    contenido = re.sub(patron, '', partes[i])\n",
    "    doc = nlp(contenido)\n",
    "    palabras_sin_stopwords = [token.text for token in doc if not token.is_stop]\n",
    "    parte_sinstop = ' '.join(palabras_sin_stopwords)\n",
    "    todo_sinstop += parte_sinstop"
   ]
  },
  {
   "cell_type": "code",
   "execution_count": 14,
   "id": "b305cc5c-dfdd-4a12-9a09-a18a27d17f13",
   "metadata": {},
   "outputs": [],
   "source": [
    "token = word_tokenize(todo_sinstop)\n",
    "for palabra in vacias:\n",
    "    token = [s for s in token if s != palabra]\n",
    "token = [s for s in token if s != \" \"]\n",
    "cadena = \" \".join(token)"
   ]
  },
  {
   "cell_type": "code",
   "execution_count": 15,
   "id": "33dcaab5-a399-4648-9ca1-14212e670a39",
   "metadata": {},
   "outputs": [],
   "source": [
    "archivo_salida = open(\"csmx_lematizado_sin_stop.txt\",\"w\",encoding=\"utf-8\")\n",
    "archivo_salida.write(cadena)\n",
    "archivo_salida.close()"
   ]
  },
  {
   "cell_type": "code",
   "execution_count": 16,
   "id": "495aaf4f-6bf1-4fd1-b6af-35a5e48adef3",
   "metadata": {},
   "outputs": [],
   "source": [
    "input_text_docs = [\n",
    "\t{\"id\": 1, \"doc\": cadena}\n",
    "]"
   ]
  },
  {
   "cell_type": "code",
   "execution_count": 17,
   "id": "5bd4de49-7142-4efd-8edb-d505fd0f4f8d",
   "metadata": {},
   "outputs": [
    {
     "name": "stderr",
     "output_type": "stream",
     "text": [
      "[nltk_data] Downloading package punkt to\n",
      "[nltk_data]     /home/jorgecarlosreyes/nltk_data...\n",
      "[nltk_data]   Package punkt is already up-to-date!\n",
      "[nltk_data] Downloading package wordnet to\n",
      "[nltk_data]     /home/jorgecarlosreyes/nltk_data...\n"
     ]
    },
    {
     "name": "stdout",
     "output_type": "stream",
     "text": [
      "2024-06-21 16:50:52,533; - INFO; - Failed to extract font properties from /usr/share/fonts/truetype/noto/NotoColorEmoji.ttf: In FT2Font: Can not load face (unknown file format; error code 0x2)\n",
      "2024-06-21 16:50:52,847; - INFO; - generated new fontManager\n",
      "2024-06-21 16:50:53,044; - DEBUG; - Import libraries/modules from :PROD\n"
     ]
    }
   ],
   "source": [
    "from text2graphapi.src.Cooccurrence import Cooccurrence"
   ]
  },
  {
   "cell_type": "code",
   "execution_count": 19,
   "id": "55d85227-0945-49a6-ac04-7a4aab63e223",
   "metadata": {},
   "outputs": [
    {
     "name": "stdout",
     "output_type": "stream",
     "text": [
      "2024-06-21 16:51:32,756; - INFO; - Has already installed spacy model es_core_news_sm\n"
     ]
    }
   ],
   "source": [
    "to_cooccurrence = Cooccurrence(\n",
    "                graph_type = 'Graph',\n",
    "                apply_prep = False,\n",
    "                parallel_exec = True,\n",
    "                window_size = 10,\n",
    "                language = 'sp',\n",
    "                output_format = 'networkx')"
   ]
  },
  {
   "cell_type": "code",
   "execution_count": 20,
   "id": "01fe24bc-9d4e-4c89-bdeb-95fb2d40c692",
   "metadata": {},
   "outputs": [
    {
     "name": "stdout",
     "output_type": "stream",
     "text": [
      "2024-06-21 16:51:53,021; - INFO; - Init transformations: Text to Co-Ocurrence Graph\n",
      "2024-06-21 16:51:53,022; - INFO; - Transforming 1 text documents...\n",
      "2024-06-21 16:52:04,602; - INFO; - Done transformations\n",
      "[{'doc_id': 1, 'graph': <networkx.classes.graph.Graph object at 0x7fdba4bae0a0>, 'number_of_edges': 1129755, 'number_of_nodes': 17385, 'status': 'success'}]\n"
     ]
    }
   ],
   "source": [
    "output_text_graphs = to_cooccurrence.transform(input_text_docs)\n",
    "print(output_text_graphs)"
   ]
  },
  {
   "cell_type": "code",
   "execution_count": 21,
   "id": "e2f32576-32b6-4532-bfb2-5bdb8ae2e1c9",
   "metadata": {},
   "outputs": [
    {
     "name": "stdout",
     "output_type": "stream",
     "text": [
      "Graph with 17385 nodes and 1129755 edges\n",
      "[('determinación', 'terminología'), ('determinación', 'básico'), ('determinación', 'sexualidad'), ('determinación', 'web'), ('determinación', 'corpus'), ('determinación', 'gerardo'), ('determinación', 'sierraalfonso'), ('determinación', 'medina'), ('determinación', 'jorge'), ('determinación', 'lázaro'), ('determinación', 'definir'), ('determinación', 'nomenclatura'), ('determinación', 'mínimo'), ('determinación', 'área'), ('determinación', 'temático'), ('determinación', 'diccionario'), ('determinación', 'investigación'), ('determinación', 'terminológico'), ('determinación', 'ej'), ('determinación', 'automatización'), ('determinación', 'ocurrencia'), ('determinación', 'definición'), ('determinación', 'texto'), ('determinación', 'base'), ('determinación', 'banco'), ('determinación', 'dato'), ('determinación', 'almacenar'), ('determinación', 'información'), ('determinación', 'lugar'), ('determinación', 'clasificación'), ('determinación', 'histológico'), ('determinación', 'diverso'), ('determinación', 'grado'), ('determinación', 'significar'), ('determinación', 'pronóstico'), ('determinación', 'mola'), ('determinación', 'deber'), ('determinación', 'cuidadosamente'), ('determinación', 'vigilar'), ('determinación', 'seriar'), ('determinación', 'nivel'), ('determinación', 'hcg'), ('determinación', 'diagnóstico'), ('determinación', 'extirpar'), ('determinación', 'legrar'), ('determinación', 'uterino'), ('determinación', 'completo'), ('determinación', 'imitación'), ('determinación', 'historiográfico'), ('determinación', 'poesía'), ('determinación', 'representar'), ('determinación', 'cosa'), ('determinación', 'realmente'), ('determinación', 'acaecer'), ('determinación', 'verosimilitud'), ('determinación', 'necesidad'), ('determinación', 'aristotélico'), ('determinación', 'equivaler'), ('determinación', 'esfera'), ('determinación', 'filosófico'), ('determinación', 'recoger'), ('determinación', 'esencia'), ('determinación', 'necesario'), ('determinación', 'institución'), ('determinación', 'característico'), ('determinación', 'problemática'), ('determinación', 'invisible'), ('determinación', 'negado'), ('determinación', 'parcial'), ('determinación', 'totalmente'), ('determinación', 'hombre'), ('determinación', 'hablar'), ('determinación', 'rígido'), ('determinación', 'socialización'), ('determinación', 'pensar'), ('determinación', 'término'), ('determinación', 'establecimiento'), ('determinación', 'presión'), ('determinación', 'límite'), ('determinación', 'intervenir'), ('determinación', 'vida'), ('determinación', 'concreto'), ('determinación', 'laicidad'), ('determinación', 'democrático'), ('determinación', 'pretender'), ('determinación', 'ofrecer'), ('determinación', 'igualdad'), ('determinación', 'persona'), ('determinación', 'principio'), ('determinación', 'soberanía'), ('determinación', 'popular'), ('determinación', 'libre'), ('determinación', 'individuo'), ('determinación', 'laico'), ('determinación', 'basar'), ('determinación', 'político'), ('determinación', 'autodeterminación'), ('determinación', 'responsabilidad'), ('determinación', 'personal'), ('determinación', 'religioso'), ('determinación', 'médico'), ('determinación', 'médicomorales'), ('determinación', 'legal'), ('determinación', 'ciertamente'), ('determinación', 'oficial'), ('determinación', 'particularmente'), ('determinación', 'antropólogo'), ('determinación', 'amparar'), ('determinación', 'biológico'), ('determinación', 'humano'), ('determinación', 'asunto'), ('determinación', 'competencia'), ('determinación', 'profesional'), ('determinación', 'medicina'), ('determinación', 'desentender'), ('determinación', 'trabajo'), ('determinación', 'análogo'), ('determinación', 'concebir'), ('determinación', 'planificación'), ('determinación', 'familiar'), ('determinación', 'dinámica'), ('determinación', 'demográfico'), ('determinación', 'relación'), ('determinación', 'salud'), ('determinación', 'papel'), ('determinación', 'jugar'), ('determinación', 'comportamiento'), ('determinación', 'reproductivo'), ('determinación', 'méxico'), ('determinación', 'disminución'), ('determinación', 'fecundidad'), ('determinación', 'promover'), ('determinación', 'política'), ('determinación', 'población'), ('determinación', 'alcanzar'), ('determinación', 'meta'), ('determinación', 'transy'), ('determinación', 'conformar'), ('determinación', 'hipótesis'), ('determinación', '1'), ('determinación', 'semana'), ('determinación', 'desarrollo'), ('determinación', 'existir'), ('determinación', 'preponderancia'), ('determinación', 'diferenciación'), ('determinación', 'integración'), ('determinación', 'subsistema'), ('determinación', 'constitución'), ('determinación', 'emergencia'), ('determinación', 'novedad'), ('determinación', '8'), ('determinación', 'crecimiento'), ('determinación', 'primario'), ('determinación', 'nacimiento'), ('determinación', '3'), ('determinación', 'edad'), ('determinación', 'manual'), ('determinación', 'atención'), ('determinación', 'sexo'), ('determinación', 'prenatal'), ('determinación', 'niño'), ('determinación', 'valor'), ('determinación', 'familia'), ('determinación', 'frecuente'), ('determinación', 'desconocimiento'), ('determinación', 'organización'), ('determinación', 'mundial'), ('determinación', 'asociación'), ('determinación', 'sexología'), ('determinación', '2000'), ('determinación', 'proceso'), ('determinación', 'incluir'), ('determinación', 'cromosómico'), ('determinación', 'inicio'), ('determinación', 'fecundación'), ('determinación', 'catorce'), ('determinación', 'feto'), ('determinación', 'identificar'), ('determinación', 'estructura'), ('determinación', 'interno'), ('determinación', '20'), ('determinación', 'prácticamente'), ('determinación', 'completar'), ('determinación', 'postnatal'), ('determinación', 'asignación'), ('determinación', 'social'), ('determinación', 'nacer'), ('determinación', 'otorgar'), ('determinación', 'menor'), ('determinación', 'parecer'), ('determinación', 'responder'), ('determinación', 'lógica'), ('determinación', 'estética'), ('determinación', 'eroticidad'), ('determinación', 'masculino'), ('determinación', 'relacionar'), ('determinación', 'producción'), ('determinación', 'masculinista'), ('determinación', 'pornografía'), ('determinación', 'rol'), ('determinación', 'genérico'), ('determinación', 'caber'), ('determinación', 'distinción'), ('determinación', 'analítico'), ('determinación', 'discurso'), ('determinación', 'pornográfico'), ('determinación', 'significación'), ('determinación', 'caso'), ('determinación', 'general'), ('determinación', 'clase'), ('determinación', 'apoyar'), ('determinación', 'sofisticar'), ('determinación', 'teoría'), ('determinación', 'marx'), ('determinación', 'desarrollar'), ('determinación', 'entretanto'), ('determinación', 'económico'), ('determinación', 'cambio'), ('determinación', 'histórico'), ('determinación', 'raza'), ('determinación', 'género'), ('determinación', 'comportar'), ('determinación', 'connotación'), ('determinación', 'unanimidad'), ('determinación', 'emplear'), ('determinación', 'crucial'), ('determinación', 'compromiso'), ('determinación', 'permanecer'), ('determinación', 'entramado'), ('determinación', 'marxista'), ('determinación', 'acentuar'), ('determinación', 'causal'), ('determinación', 'factor'), ('determinación', 'sistema_de_género'), ('determinación', 'actuar'), ('determinación', 'socioeconómico'), ('determinación', 'sexogénero'), ('determinación', 'kelly'), ('determinación', 'introducir'), ('determinación', '2'), ('determinación', 'falta'), ('determinación', 'país'), ('determinación', 'delito'), ('determinación', 'practicar'), ('determinación', 'mutuo'), ('determinación', 'consentimiento'), ('determinación', 'variar'), ('determinación', 'afinidad'), ('determinación', 'consideración'), ('determinación', 'consanguineidad'), ('determinación', 'prohibir'), ('determinación', 'ejemplo'), ('determinación', 'hermano'), ('determinación', 'adoptivo'), ('determinación', 'históricamente'), ('determinación', 'impulsar'), ('determinación', 'condición'), ('determinación', 'indispensable'), ('determinación', 'respeto'), ('determinación', 'derecho'), ('determinación', 'mujer'), ('determinación', 'pleno'), ('determinación', 'matrimonio'), ('determinación', 'impulso'), ('determinación', 'participación'), ('determinación', 'proteger'), ('determinación', 'masculinización'), ('determinación', 'ínfimo'), ('determinación', 'adn'), ('determinación', 'fetal'), ('determinación', 'pasar'), ('determinación', 'torrente'), ('determinación', 'sanguíneo'), ('determinación', 'madre'), ('determinación', 'placenta'), ('determinación', 'carácter'), ('determinación', 'invasivo'), ('determinación', 'permitir'), ('determinación', 'conocimiento'), ('determinación', 'criatura'), ('determinación', 'fecha'), ('determinación', 'período'), ('determinación', 'quinta'), ('determinación', 'grupo'), ('determinación', 'alemán'), ('determinación', 'dirigir'), ('determinación', 'dörner'), ('determinación', 'signiﬁcativo'), ('determinación', 'peso'), ('determinación', 'efecto'), ('determinación', 'ambiente'), ('determinación', 'hormonal'), ('determinación', 'materno'), ('determinación', 'orientación_sexual'), ('determinación', 'producir'), ('determinación', 'duplo'), ('determinación', 'inﬂuencia'), ('determinación', 'andrógeno'), ('determinación', 'desmasculinización'), ('determinación', 'feminización'), ('determinación', 'desfeminización'), ('determinación', 'cerebral'), ('determinación', 'homosexualidad'), ('determinación', 'ﬁgura'), ('determinación', 'clasiﬁcaciones'), ('determinación', 'internacional'), ('determinación', 'enfermedad'), ('determinación', 'signiﬁca'), ('determinación', 'necesariamente'), ('determinación', 'comunidad'), ('determinación', 'psiquiátrico'), ('determinación', 'aceptar'), ('determinación', 'extinguir'), ('determinación', 'debate'), ('determinación', 'estatuto'), ('determinación', 'j'), ('determinación', 'drescher'), ('determinación', 'proponer'), ('determinación', 'estudiar'), ('determinación', 'do'), ('terminología', 'básico'), ('terminología', 'sexualidad'), ('terminología', 'web'), ('terminología', 'corpus'), ('terminología', 'gerardo'), ('terminología', 'sierraalfonso'), ('terminología', 'medina'), ('terminología', 'jorge'), ('terminología', 'lázaro'), ('terminología', 'abstract'), ('terminología', 'texto'), ('terminología', 'extraer'), ('terminología', 'internet'), ('terminología', 'pretender'), ('terminología', 'explicar'), ('terminología', 'proceso'), ('terminología', 'lingüísticocomputacional'), ('terminología', 'seguir'), ('terminología', 'extracción'), ('terminología', 'sentar'), ('terminología', 'base'), ('terminología', 'descansar'), ('terminología', 'método'), ('terminología', 'creación'), ('terminología', 'material'), ('terminología', 'diccionario'), ('terminología', 'extractor'), ('terminología', 'conceptual'), ('terminología', 'barrera'), ('terminología', 'comunicación'), ('terminología', 'existente'), ('terminología', 'especialista'), ('terminología', 'población'), ('terminología', 'general'), ('terminología', 'necesario'), ('terminología', 'recurso'), ('terminología', 'contemplar'), ('terminología', 'armonizar'), ('terminología', 'sistemático'), ('terminología', 'existir'), ('terminología', 'glosario'), ('terminología', 'vocabulario'), ('terminología', 'tema'), ('terminología', 'mayoría'), ('terminología', 'disperso'), ('terminología', 'faltar'), ('terminología', 'recopilación'), ('terminología', 'ventaja'), ('terminología', 'ejercicio'), ('terminología', 'sexual'), ('terminología', 'contar'), ('terminología', 'vehículo'), ('terminología', 'ingresar'), ('terminología', 'conocimiento'), ('terminología', 'ámbito'), ('terminología', 'especializar'), ('terminología', 'tender'), ('terminología', 'abordar'), ('terminología', 'totalidad'), ('terminología', 'subárea'), ('terminología', 'constituir'), ('terminología', 'dispersión'), ('terminología', 'terminológico'), ('terminología', 'organización'), ('terminología', 'mundial'), ('terminología', 'computacional'), ('terminología', '2'), ('terminología', 'proyecto'), ('terminología', 'intentar'), ('terminología', 'documentar'), ('terminología', 'cabo'), ('terminología', 'término'), ('terminología', 'construcción'), ('terminología', 'méxico'), ('terminología', 'conjunto'), ('terminología', 'dirigir'), ('terminología', 'esencial'), ('terminología', 'diseño'), ('terminología', 'versión'), ('terminología', 'resultar'), ('terminología', 'trabajo'), ('terminología', 'compilación'), ('terminología', 'procesamiento'), ('terminología', 'información'), ('terminología', 'sexólogo'), ('terminología', 'calificar'), ('terminología', 'énfasis'), ('terminología', 'ilustrar'), ('terminología', 'contener'), ('terminología', 'descripción'), ('terminología', 'explicación'), ('terminología', 'pensar'), ('terminología', 'tipo'), ('terminología', 'público'), ('terminología', 'descartar'), ('terminología', 'objetivo'), ('terminología', 'principal'), ('terminología', 'mostrar'), ('terminología', 'camino'), ('terminología', 'llegar'), ('terminología', 'área'), ('terminología', 'delimitar'), ('terminología', 'clasificación'), ('terminología', '1'), ('terminología', 'liga'), ('terminología', 'sitio'), ('terminología', 'nombre'), ('terminología', 'autor'), ('terminología', '4'), ('terminología', 'etapa'), ('terminología', 'consistir'), ('terminología', 'obtener'), ('terminología', 'crear'), ('terminología', 'herramienta'), ('terminología', 'técnica'), ('terminología', 'lexicografía'), ('terminología', 'terminología'), ('terminología', 'ingeniería'), ('terminología', 'lingüístico'), ('terminología', 'integrar'), ('terminología', 'deber'), ('terminología', 'respetar'), ('terminología', 'criterio'), ('terminología', 'indicar'), ('terminología', 'instituto'), ('terminología', 'kinsey'), ('terminología', 'representatividad'), ('terminología', 'cumplir'), ('terminología', 'requisito'), ('terminología', 'definir'), ('terminología', 'orientar'), ('terminología', 'describir'), ('terminología', 'español'), ('terminología', 'mexicano'), ('terminología', 'división'), ('terminología', 'nivel'), ('terminología', 'marcación'), ('terminología', 'distrática'), ('terminología', 'diferenciación'), ('terminología', 'original'), ('terminología', 'dato'), ('terminología', 'fragmento'), ('terminología', 'iv'), ('terminología', 'obtención'), ('terminología', 'importante'), ('terminología', 'recalcar'), ('terminología', 'fase'), ('terminología', 'acercamiento'), ('terminología', 'relevante'), ('terminología', 'emplear'), ('terminología', 'metodología'), ('terminología', 'terminográfica'), ('terminología', 'apoyar'), ('terminología', 'terminóticas'), ('terminología', 'producción'), ('terminología', 'estadístico'), ('terminología', 'automático'), ('terminología', 'ayuda'), ('terminología', 'wordsmith'), ('terminología', 'análisis'), ('terminología', 'elegir'), ('terminología', '125'), ('terminología', 'mil'), ('terminología', 'utilizar'), ('terminología', 'v'), ('terminología', 'conclusión'), ('terminología', 'diseñar'), ('terminología', 'servir'), ('terminología', 'principalmente'), ('terminología', 'do'), ('terminología', 'cosa'), ('terminología', 'punto'), ('terminología', 'partida'), ('terminología', 'prueba'), ('terminología', 'desarrollar'), ('terminología', 'grupo'), ('terminología', 'universidad'), ('terminología', 'nacional'), ('terminología', 'autónomo'), ('terminología', 'establecer'), ('terminología', 'proceder'), ('terminología', 'búsqueda'), ('terminología', 'definición'), ('terminología', 'semiautomático'), ('terminología', 'buscar'), ('terminología', 'referencia'), ('terminología', 'considerar'), ('terminología', 'menstruación'), ('terminología', 'momento'), ('terminología', 'fecundación'), ('terminología', 'probablemente'), ('terminología', 'encontrar'), ('terminología', 'influenciar'), ('terminología', 'negativo'), ('terminología', 'cotidiano'), ('terminología', 'implicar'), ('terminología', 'estudio'), ('terminología', 'cuestionar'), ('terminología', 'científicamente'), ('terminología', 'presentar'), ('terminología', 'in'), ('terminología', 'vivo'), ('terminología', 'necesariamente'), ('terminología', 'vitro'), ('terminología', 'declaración'), ('terminología', 'evitar'), ('terminología', 'confusión'), ('terminología', 'especial'), ('terminología', 'incertidumbre'), ('terminología', 'mente'), ('terminología', 'entidad'), ('terminología', 'desarrollo'), ('terminología', 'transexualidad'), ('terminología', 'discordancia'), ('terminología', 'sexogenérica'), ('terminología', 'limitar'), ('terminología', 'disforia_de_género'), ('terminología', 'contribución'), ('terminología', 'elemento'), ('terminología', 'acorde'), ('terminología', 'realidad'), ('terminología', 'motivo'), ('terminología', 'infidelidad'), ('terminología', 'montano'), ('terminología', '1994'), ('terminología', 'oscuro'), ('terminología', 'constante'), ('terminología', 'cambio'), ('terminología', 'apuntar'), ('terminología', 'mutabilidad'), ('terminología', 'identidad'), ('terminología', 'flexibilidad'), ('terminología', 'personal'), ('terminología', 'manifiesto'), ('terminología', 'designar'), ('terminología', 'variante'), ('terminología', 'travestí'), ('terminología', 'homosexual'), ('terminología', 'entrevistar'), ('terminología', 'destacar'), ('terminología', 'distancia'), ('terminología', 'académico'), ('terminología', 'obra'), ('terminología', 'género'), ('terminología', 'sonar'), ('terminología', 'neutral'), ('terminología', 'mujer'), ('terminología', 'parecer'), ('terminología', 'ajustar'), ('terminología', 'científico'), ('terminología', 'ciencia'), ('terminología', 'social'), ('terminología', 'desmarcar'), ('terminología', 'supuestamente'), ('terminología', 'estridente'), ('terminología', 'política'), ('terminología', 'feminismo'), ('terminología', 'acepción'), ('terminología', 'fijo'), ('terminología', 'variar'), ('terminología', 'contexto'), ('terminología', 'conflicto'), ('terminología', 'necesidad'), ('terminología', 'sujeto'), ('terminología', 'apariencia'), ('terminología', 'imprecisión'), ('terminología', 'significado'), ('terminología', 'relativo'), ('terminología', 'dependencia'), ('terminología', 'represión'), ('terminología', 'clase'), ('terminología', 'interpretación'), ('terminología', 'problemático'), ('terminología', 'categoría'), ('terminología', 'hombre'), ('terminología', 'visible'), ('terminología', 'participante'), ('terminología', 'activo'), ('terminología', 'analítico'), ('terminología', 'lenguaje'), ('terminología', 'aparentemente'), ('terminología', 'estable'), ('terminología', 'historia'), ('terminología', 'dejar'), ('terminología', 'abrir'), ('terminología', 'posibilidad'), ('terminología', 'estrategia'), ('terminología', 'político'), ('terminología', 'feminista'), ('terminología', 'actual'), ('terminología', 'utópico'), ('básico', 'sexualidad'), ('básico', 'web'), ('básico', 'corpus'), ('básico', 'gerardo'), ('básico', 'sierraalfonso'), ('básico', 'medina'), ('básico', 'jorge'), ('básico', 'lázaro'), ('básico', 'abstract'), ('básico', 'artículo'), ('básico', 'texto'), ('básico', 'extraer'), ('básico', 'internet'), ('básico', 'pretender'), ('básico', 'explicar'), ('básico', 'proceso'), ('básico', 'lingüísticocomputacional'), ('básico', 'seguir'), ('básico', 'extracción'), ('básico', 'sentar'), ('básico', 'base'), ('básico', 'descansar'), ('básico', 'método'), ('básico', 'creación'), ('básico', 'material'), ('básico', 'diccionario'), ('básico', 'extractor'), ('básico', 'conceptual'), ('básico', 'red'), ('básico', 'sexología'), ('básico', 'particular'), ('básico', 'general'), ('básico', 'fe'), ('básico', 'palabra'), ('básico', 'mexicano'), ('básico', 'atender'), ('básico', 'programa'), ('básico', 'educación'), ('básico', 'superior'), ('básico', 'contar'), ('básico', 'asignatura'), ('básico', 'educación_sexual'), ('básico', 'caer'), ('básico', 'impartir'), ('básico', 'enseñanza'), ('básico', 'especializar'), ('básico', 'mezcla'), ('básico', '2'), ('básico', 'proyecto'), ('básico', 'intentar'), ('básico', 'documentar'), ('básico', 'cabo'), ('básico', 'término'), ('básico', 'construcción'), ('básico', 'méxico'), ('básico', 'conjunto'), ('básico', 'dirigir'), ('básico', 'esencial'), ('básico', 'diseño'), ('básico', 'básico'), ('básico', 'dbsm'), ('básico', 'empero'), ('básico', 'producto'), ('básico', 'contemplar'), ('básico', 'lexicográfico'), ('básico', 'terminológico'), ('básico', 'contribuir'), ('básico', 'solución'), ('básico', 'problema'), ('básico', 'proponer'), ('básico', 'público'), ('básico', 'requerir'), ('básico', 'superar'), ('básico', 'fase'), ('básico', 'obtención'), ('básico', 'lingüístico'), ('básico', 'elaboración'), ('básico', 'definición'), ('básico', 'presentar'), ('básico', 'etapa'), ('básico', 'corresponder'), ('básico', 'csmx'), ('básico', 'esencialmente'), ('básico', 'gil'), ('básico', 'i1'), ('básico', 'destinar'), ('básico', 'i2'), ('básico', 'obra'), ('básico', 'carácter'), ('básico', 'versión'), ('básico', 'resultar'), ('básico', 'trabajo'), ('básico', 'compilación'), ('básico', 'c'), ('básico', 'adulto'), ('básico', 'i3'), ('básico', 'dsmx'), ('básico', 'amplio'), ('básico', 'contener'), ('básico', 'información'), ('básico', 'enciclopédico'), ('básico', 'i4'), ('básico', 'descartar'), ('básico', 'objetivo'), ('básico', 'principal'), ('básico', 'mostrar'), ('básico', 'camino'), ('básico', 'llegar'), ('básico', 'organización'), ('básico', 'área'), ('básico', 'delimitar'), ('básico', 'clasificación'), ('básico', '1'), ('básico', 'investigación'), ('básico', 'sitio'), ('básico', 'nombre'), ('básico', 'autor'), ('básico', '4'), ('básico', 'consistir'), ('básico', 'obtener'), ('básico', 'crear'), ('básico', 'herramienta'), ('básico', 'técnica'), ('básico', 'lexicografía'), ('básico', 'ingeniería'), ('básico', 'integrar'), ('básico', 'vocabulario'), ('básico', 'deber'), ('básico', 'respetar'), ('básico', 'criterio'), ('básico', 'indicar'), ('básico', 'separar'), ('básico', 'rasgo'), ('básico', 'finalmente'), ('básico', 'evaluar'), ('básico', 'impacto'), ('básico', 'efectividad'), ('básico', 'reforzar'), ('básico', 'modificar'), ('básico', 'construir'), ('básico', 'posterior'), ('básico', 'derivar'), ('básico', 'ii'), ('básico', 'delimitación'), ('básico', 'instituto'), ('básico', 'kinsey'), ('básico', 'representatividad'), ('básico', 'cumplir'), ('básico', 'requisito'), ('básico', 'definir'), ('básico', 'orientar'), ('básico', 'describir'), ('básico', 'español'), ('básico', 'división'), ('básico', 'nivel'), ('básico', 'marcación'), ('básico', 'distrática'), ('básico', 'diferenciación'), ('básico', 'grupo'), ('básico', 'archivos3'), ('básico', 'evitar'), ('básico', 'extenso'), ('básico', 'influir'), ('básico', 'utilizar'), ('básico', 'conformación'), ('básico', 'ii1'), ('básico', 'variedad'), ('básico', 'mencionar'), ('básico', 'constituir'), ('básico', 'parámetro'), ('básico', 'institución'), ('básico', 'lenguaje'), ('básico', 'marcar'), ('básico', 'excelencia'), ('básico', 'dato'), ('básico', 'moldear'), ('básico', 'controlar'), ('básico', 'mínimo'), ('básico', 'esfuerzo'), ('básico', 'conocimiento'), ('básico', 'cuestión'), ('básico', 'programación'), ('básico', 'sintaxis'), ('básico', 'efectivo'), ('básico', 'prácticamente'), ('básico', 'reconocer'), ('básico', 'navegador'), ('básico', 'página'), ('básico', 'dirección'), ('básico', 'encontrar'), ('básico', 'iii3'), ('básico', 'soporte'), ('básico', 'consulta'), ('básico', 'disponible'), ('básico', 'interfaz'), ('básico', 'permitir'), ('básico', 'usuario'), ('básico', 'buscar'), ('básico', 'necesitar'), ('básico', 'original'), ('básico', 'fragmento'), ('básico', 'iv'), ('básico', 'importante'), ('básico', 'recalcar'), ('básico', 'conformar'), ('básico', 'constar'), ('básico', 'necesario'), ('básico', 'suficiente'), ('básico', 'lista'), ('básico', 'acercamiento'), ('básico', 'relevante'), ('básico', 'emplear'), ('básico', 'metodología'), ('básico', 'terminográfica'), ('básico', 'apoyar'), ('básico', 'terminóticas'), ('básico', 'producción'), ('básico', 'palabrasclave'), ('básico', 'pauta'), ('básico', 'elegir'), ('básico', 'diseñar'), ('básico', 'palabraclave'), ('básico', 'punto'), ('básico', 'cercano'), ('básico', 'definitivo'), ('básico', 'elección'), ('básico', 'iv3'), ('básico', '125'), ('básico', 'mil'), ('básico', 'v'), ('básico', 'conclusión'), ('básico', 'servir'), ('básico', 'principalmente'), ('básico', 'do'), ('básico', 'cosa'), ('básico', 'partida'), ('básico', 'semilla'), ('básico', 'sistema'), ('básico', 'resumir'), ('básico', 'desarrollar'), ('básico', 'universidad'), ('básico', 'nacional'), ('básico', 'autónomo'), ('básico', 'establecer'), ('básico', 'proceder'), ('básico', 'búsqueda'), ('básico', 'automático'), ('básico', 'semiautomático'), ('básico', 'ayuda'), ('básico', 'implementar'), ('básico', 'manejo'), ('básico', 'accesible'), ('básico', 'forma'), ('básico', 'electrónico'), ('básico', 'basar'), ('básico', 'anteriormente'), ('básico', 'exponer'), ('básico', 'clínico'), ('básico', 'desviación'), ('básico', 'sexual'), ('básico', 'masturbación'), ('básico', 'homosexualidad'), ('básico', 'enfoque'), ('básico', 'aportación'), ('básico', 'innovador'), ('básico', 'estudio'), ('básico', 'hablar'), ('básico', 'derecho'), ('básico', 'diversidad'), ('básico', 'plantear'), ('básico', 'existir'), ('básico', 'único'), ('básico', 'adecuar'), ('básico', 'adolescente'), ('básico', 'concretamente'), ('básico', 'colaborar'), ('básico', 'continuación'), ('básico', 'concepto'), ('básico', 'sociológico'), ('básico', 'fuerte'), ('básico', 'martín'), ('básico', 'lópez'), ('básico', 'sánchez'), ('básico', 'f'), ('básico', '1997'), ('básico', '8591'), ('básico', 'butler'), ('básico', 'socialización'), ('básico', 'aspecto'), ('básico', 'central'), ('básico', 'implicar'), ('básico', 'relación'), ('básico', 'sociedad'), ('básico', 'pareja'), ('básico', 'familia'), ('básico', 'incluir'), ('básico', 'actitud'), ('básico', 'valor'), ('básico', 'norma'), ('básico', 'rol_de_género'), ('básico', 'reggeaton'), ('básico', 'perreo'), ('básico', 'chacalonero'), ('básico', 'baile'), ('básico', 'cantante'), ('básico', 'principio'), ('básico', 'canción'), ('básico', 'valer'), ('básico', 'script'), ('básico', 'instrucción'), ('básico', 'letra'), ('básico', 'repetir'), ('básico', 'chancar'), ('básico', 'hueso'), ('básico', 'perrea'), ('básico', 'papi'), ('básico', 'píldora'), ('básico', 'postcoital'), ('básico', 'receta'), ('básico', 'médico'), ('básico', 'ejemplo'), ('básico', 'reacción'), ('básico', 'impulsivo'), ('básico', 'urgencia'), ('básico', 'comenzar'), ('básico', 'desempolvar'), ('básico', 'introducir'), ('básico', 'cambio'), ('básico', 'finalizar'), ('básico', 'pregunta'), ('básico', 'imponer'), ('básico', 'hijo'), ('básico', 'dios'), ('básico', 'mandar'), ('básico', 'respaldar'), ('básico', 'materialmente'), ('básico', 'instancia'), ('básico', 'iglesia'), ('básico', 'católico'), ('básico', 'garantizar'), ('básico', 'condición'), ('básico', 'vida'), ('básico', 'digno'), ('básico', 'disponer'), ('básico', 'solventar'), ('básico', 'costo'), ('básico', 'económico'), ('básico', 'anhelo'), ('básico', 'trasmisión'), ('básico', 'consecuencia'), ('básico', 'negativo'), ('básico', 'masculinidadfemineidad'), ('básico', 'profesor'), ('básico', 'josé'), ('básico', 'ángel'), ('básico', 'vera'), ('básico', 'noriega'), ('básico', 'maria'), ('básico', 'antonieta'), ('básico', 'mexia'), ('básico', 'soler'), ('básico', '1998'), ('básico', 'libro'), ('básico', 'prematrimonial'), ('básico', 'provocar'), ('básico', 'desconcierto'), ('básico', 'peraltacitada'), ('básico', 'caamaño'), ('básico', '2001'), ('básico', 'acercar'), ('básico', '64'), ('básico', 'docente'), ('básico', 'mayoría'), ('básico', 'encuestar'), ('básico', 'creer'), ('básico', 'dañino'), ('básico', 'enfermedad'), ('básico', 'curar'), ('básico', 'estudiar'), ('básico', 'maestría'), ('básico', '23'), ('básico', 'n'), ('básico', '33'), ('básico', 'restante'), ('básico', 'población'), ('básico', 'cursar'), ('básico', 'normal'), ('básico', '3'), ('básico', 'licenciatura')]\n"
     ]
    }
   ],
   "source": [
    "import networkx as nx\n",
    "grafo_csmx = output_text_graphs[0]['graph']\n",
    "print(grafo_csmx)\n",
    "print(list(grafo_csmx.edges)[None:1000:None])"
   ]
  },
  {
   "cell_type": "code",
   "execution_count": 23,
   "id": "9aa55f00-e9f6-4292-8a9e-b10428b3dc35",
   "metadata": {},
   "outputs": [],
   "source": [
    "nx.write_gexf(grafo_csmx,\"grafo_csmx_ventana10.gexf\", encoding='utf-8')"
   ]
  },
  {
   "cell_type": "code",
   "execution_count": null,
   "id": "3d04bc44-eb22-4e27-8eea-a27eb5d395de",
   "metadata": {},
   "outputs": [],
   "source": []
  }
 ],
 "metadata": {
  "kernelspec": {
   "display_name": "Python 3 (ipykernel)",
   "language": "python",
   "name": "python3"
  },
  "language_info": {
   "codemirror_mode": {
    "name": "ipython",
    "version": 3
   },
   "file_extension": ".py",
   "mimetype": "text/x-python",
   "name": "python",
   "nbconvert_exporter": "python",
   "pygments_lexer": "ipython3",
   "version": "3.8.10"
  }
 },
 "nbformat": 4,
 "nbformat_minor": 5
}
